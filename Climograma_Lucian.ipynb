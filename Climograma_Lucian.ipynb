{
  "nbformat": 4,
  "nbformat_minor": 0,
  "metadata": {
    "colab": {
      "name": "Climograma-Lucian.ipynb",
      "provenance": [],
      "collapsed_sections": [],
      "include_colab_link": true
    },
    "kernelspec": {
      "name": "python3",
      "display_name": "Python 3"
    },
    "language_info": {
      "name": "python"
    }
  },
  "cells": [
    {
      "cell_type": "markdown",
      "metadata": {
        "id": "view-in-github",
        "colab_type": "text"
      },
      "source": [
        "<a href=\"https://colab.research.google.com/github/mnvlucian/Google-Earth-Engine-Climogram/blob/main/Climograma_Lucian.ipynb\" target=\"_parent\"><img src=\"https://colab.research.google.com/assets/colab-badge.svg\" alt=\"Open In Colab\"/></a>"
      ]
    },
    {
      "cell_type": "markdown",
      "source": [
        "Code created using the following videos as a basis: \n",
        "https://www.youtube.com/watch?v=hsJxeecHqeM and \n",
        "https://www.youtube.com/watch?v=AZNS7LQ78UY"
      ],
      "metadata": {
        "id": "xf_wok2iqW8B"
      }
    },
    {
      "cell_type": "code",
      "source": [
        "!pip install geopandas\n",
        "!pip install earthengine-api\n",
        "!pip install ipygee"
      ],
      "metadata": {
        "colab": {
          "base_uri": "https://localhost:8080/"
        },
        "id": "Sf_uobynCalU",
        "outputId": "659c278b-8bad-4343-c29d-0b7a10eec792"
      },
      "execution_count": null,
      "outputs": [
        {
          "output_type": "stream",
          "name": "stdout",
          "text": [
            "Collecting geopandas\n",
            "  Downloading geopandas-0.10.2-py2.py3-none-any.whl (1.0 MB)\n",
            "\u001b[K     |████████████████████████████████| 1.0 MB 7.4 MB/s \n",
            "\u001b[?25hCollecting pyproj>=2.2.0\n",
            "  Downloading pyproj-3.2.1-cp37-cp37m-manylinux2010_x86_64.whl (6.3 MB)\n",
            "\u001b[K     |████████████████████████████████| 6.3 MB 40.2 MB/s \n",
            "\u001b[?25hCollecting fiona>=1.8\n",
            "  Downloading Fiona-1.8.21-cp37-cp37m-manylinux2014_x86_64.whl (16.7 MB)\n",
            "\u001b[K     |████████████████████████████████| 16.7 MB 315 kB/s \n",
            "\u001b[?25hRequirement already satisfied: pandas>=0.25.0 in /usr/local/lib/python3.7/dist-packages (from geopandas) (1.3.5)\n",
            "Requirement already satisfied: shapely>=1.6 in /usr/local/lib/python3.7/dist-packages (from geopandas) (1.8.1.post1)\n",
            "Requirement already satisfied: six>=1.7 in /usr/local/lib/python3.7/dist-packages (from fiona>=1.8->geopandas) (1.15.0)\n",
            "Collecting cligj>=0.5\n",
            "  Downloading cligj-0.7.2-py3-none-any.whl (7.1 kB)\n",
            "Collecting click-plugins>=1.0\n",
            "  Downloading click_plugins-1.1.1-py2.py3-none-any.whl (7.5 kB)\n",
            "Requirement already satisfied: click>=4.0 in /usr/local/lib/python3.7/dist-packages (from fiona>=1.8->geopandas) (7.1.2)\n",
            "Requirement already satisfied: certifi in /usr/local/lib/python3.7/dist-packages (from fiona>=1.8->geopandas) (2021.10.8)\n",
            "Collecting munch\n",
            "  Downloading munch-2.5.0-py2.py3-none-any.whl (10 kB)\n",
            "Requirement already satisfied: attrs>=17 in /usr/local/lib/python3.7/dist-packages (from fiona>=1.8->geopandas) (21.4.0)\n",
            "Requirement already satisfied: setuptools in /usr/local/lib/python3.7/dist-packages (from fiona>=1.8->geopandas) (57.4.0)\n",
            "Requirement already satisfied: python-dateutil>=2.7.3 in /usr/local/lib/python3.7/dist-packages (from pandas>=0.25.0->geopandas) (2.8.2)\n",
            "Requirement already satisfied: pytz>=2017.3 in /usr/local/lib/python3.7/dist-packages (from pandas>=0.25.0->geopandas) (2018.9)\n",
            "Requirement already satisfied: numpy>=1.17.3 in /usr/local/lib/python3.7/dist-packages (from pandas>=0.25.0->geopandas) (1.21.5)\n",
            "Installing collected packages: munch, cligj, click-plugins, pyproj, fiona, geopandas\n",
            "Successfully installed click-plugins-1.1.1 cligj-0.7.2 fiona-1.8.21 geopandas-0.10.2 munch-2.5.0 pyproj-3.2.1\n",
            "Requirement already satisfied: earthengine-api in /usr/local/lib/python3.7/dist-packages (0.1.303)\n",
            "Requirement already satisfied: google-api-python-client<2,>=1.12.1 in /usr/local/lib/python3.7/dist-packages (from earthengine-api) (1.12.11)\n",
            "Requirement already satisfied: httplib2<1dev,>=0.9.2 in /usr/local/lib/python3.7/dist-packages (from earthengine-api) (0.17.4)\n",
            "Requirement already satisfied: google-auth-httplib2>=0.0.3 in /usr/local/lib/python3.7/dist-packages (from earthengine-api) (0.0.4)\n",
            "Requirement already satisfied: future in /usr/local/lib/python3.7/dist-packages (from earthengine-api) (0.16.0)\n",
            "Requirement already satisfied: httplib2shim in /usr/local/lib/python3.7/dist-packages (from earthengine-api) (0.0.3)\n",
            "Requirement already satisfied: six in /usr/local/lib/python3.7/dist-packages (from earthengine-api) (1.15.0)\n",
            "Requirement already satisfied: google-auth>=1.4.1 in /usr/local/lib/python3.7/dist-packages (from earthengine-api) (1.35.0)\n",
            "Requirement already satisfied: google-cloud-storage in /usr/local/lib/python3.7/dist-packages (from earthengine-api) (1.18.1)\n",
            "Requirement already satisfied: google-api-core<3dev,>=1.21.0 in /usr/local/lib/python3.7/dist-packages (from google-api-python-client<2,>=1.12.1->earthengine-api) (1.26.3)\n",
            "Requirement already satisfied: uritemplate<4dev,>=3.0.0 in /usr/local/lib/python3.7/dist-packages (from google-api-python-client<2,>=1.12.1->earthengine-api) (3.0.1)\n",
            "Requirement already satisfied: requests<3.0.0dev,>=2.18.0 in /usr/local/lib/python3.7/dist-packages (from google-api-core<3dev,>=1.21.0->google-api-python-client<2,>=1.12.1->earthengine-api) (2.23.0)\n",
            "Requirement already satisfied: packaging>=14.3 in /usr/local/lib/python3.7/dist-packages (from google-api-core<3dev,>=1.21.0->google-api-python-client<2,>=1.12.1->earthengine-api) (21.3)\n",
            "Requirement already satisfied: protobuf>=3.12.0 in /usr/local/lib/python3.7/dist-packages (from google-api-core<3dev,>=1.21.0->google-api-python-client<2,>=1.12.1->earthengine-api) (3.17.3)\n",
            "Requirement already satisfied: pytz in /usr/local/lib/python3.7/dist-packages (from google-api-core<3dev,>=1.21.0->google-api-python-client<2,>=1.12.1->earthengine-api) (2018.9)\n",
            "Requirement already satisfied: googleapis-common-protos<2.0dev,>=1.6.0 in /usr/local/lib/python3.7/dist-packages (from google-api-core<3dev,>=1.21.0->google-api-python-client<2,>=1.12.1->earthengine-api) (1.56.0)\n",
            "Requirement already satisfied: setuptools>=40.3.0 in /usr/local/lib/python3.7/dist-packages (from google-api-core<3dev,>=1.21.0->google-api-python-client<2,>=1.12.1->earthengine-api) (57.4.0)\n",
            "Requirement already satisfied: rsa<5,>=3.1.4 in /usr/local/lib/python3.7/dist-packages (from google-auth>=1.4.1->earthengine-api) (4.8)\n",
            "Requirement already satisfied: cachetools<5.0,>=2.0.0 in /usr/local/lib/python3.7/dist-packages (from google-auth>=1.4.1->earthengine-api) (4.2.4)\n",
            "Requirement already satisfied: pyasn1-modules>=0.2.1 in /usr/local/lib/python3.7/dist-packages (from google-auth>=1.4.1->earthengine-api) (0.2.8)\n",
            "Requirement already satisfied: pyparsing!=3.0.5,>=2.0.2 in /usr/local/lib/python3.7/dist-packages (from packaging>=14.3->google-api-core<3dev,>=1.21.0->google-api-python-client<2,>=1.12.1->earthengine-api) (3.0.7)\n",
            "Requirement already satisfied: pyasn1<0.5.0,>=0.4.6 in /usr/local/lib/python3.7/dist-packages (from pyasn1-modules>=0.2.1->google-auth>=1.4.1->earthengine-api) (0.4.8)\n",
            "Requirement already satisfied: certifi>=2017.4.17 in /usr/local/lib/python3.7/dist-packages (from requests<3.0.0dev,>=2.18.0->google-api-core<3dev,>=1.21.0->google-api-python-client<2,>=1.12.1->earthengine-api) (2021.10.8)\n",
            "Requirement already satisfied: urllib3!=1.25.0,!=1.25.1,<1.26,>=1.21.1 in /usr/local/lib/python3.7/dist-packages (from requests<3.0.0dev,>=2.18.0->google-api-core<3dev,>=1.21.0->google-api-python-client<2,>=1.12.1->earthengine-api) (1.24.3)\n",
            "Requirement already satisfied: idna<3,>=2.5 in /usr/local/lib/python3.7/dist-packages (from requests<3.0.0dev,>=2.18.0->google-api-core<3dev,>=1.21.0->google-api-python-client<2,>=1.12.1->earthengine-api) (2.10)\n",
            "Requirement already satisfied: chardet<4,>=3.0.2 in /usr/local/lib/python3.7/dist-packages (from requests<3.0.0dev,>=2.18.0->google-api-core<3dev,>=1.21.0->google-api-python-client<2,>=1.12.1->earthengine-api) (3.0.4)\n",
            "Requirement already satisfied: google-cloud-core<2.0dev,>=1.0.0 in /usr/local/lib/python3.7/dist-packages (from google-cloud-storage->earthengine-api) (1.0.3)\n",
            "Requirement already satisfied: google-resumable-media<0.5.0dev,>=0.3.1 in /usr/local/lib/python3.7/dist-packages (from google-cloud-storage->earthengine-api) (0.4.1)\n",
            "Collecting ipygee\n",
            "  Downloading ipygee-0.0.17.tar.gz (36 kB)\n",
            "Collecting ipyleaflet>=0.10.2\n",
            "  Downloading ipyleaflet-0.15.0-py2.py3-none-any.whl (3.3 MB)\n",
            "\u001b[K     |████████████████████████████████| 3.3 MB 12.9 MB/s \n",
            "\u001b[?25hCollecting pygal\n",
            "  Downloading pygal-3.0.0-py2.py3-none-any.whl (129 kB)\n",
            "\u001b[K     |████████████████████████████████| 129 kB 43.2 MB/s \n",
            "\u001b[?25hRequirement already satisfied: pandas in /usr/local/lib/python3.7/dist-packages (from ipygee) (1.3.5)\n",
            "Collecting geetools\n",
            "  Downloading geetools-0.6.14.tar.gz (74 kB)\n",
            "\u001b[K     |████████████████████████████████| 74 kB 1.5 MB/s \n",
            "\u001b[?25hCollecting xyzservices>=2021.8.1\n",
            "  Downloading xyzservices-2022.3.0-py3-none-any.whl (36 kB)\n",
            "Collecting traittypes<3,>=0.2.1\n",
            "  Downloading traittypes-0.2.1-py2.py3-none-any.whl (8.6 kB)\n",
            "Requirement already satisfied: ipywidgets<8,>=7.6.0 in /usr/local/lib/python3.7/dist-packages (from ipyleaflet>=0.10.2->ipygee) (7.7.0)\n",
            "Requirement already satisfied: widgetsnbextension~=3.6.0 in /usr/local/lib/python3.7/dist-packages (from ipywidgets<8,>=7.6.0->ipyleaflet>=0.10.2->ipygee) (3.6.0)\n",
            "Requirement already satisfied: traitlets>=4.3.1 in /usr/local/lib/python3.7/dist-packages (from ipywidgets<8,>=7.6.0->ipyleaflet>=0.10.2->ipygee) (5.1.1)\n",
            "Requirement already satisfied: ipykernel>=4.5.1 in /usr/local/lib/python3.7/dist-packages (from ipywidgets<8,>=7.6.0->ipyleaflet>=0.10.2->ipygee) (4.10.1)\n",
            "Requirement already satisfied: ipython>=4.0.0 in /usr/local/lib/python3.7/dist-packages (from ipywidgets<8,>=7.6.0->ipyleaflet>=0.10.2->ipygee) (5.5.0)\n",
            "Requirement already satisfied: ipython-genutils~=0.2.0 in /usr/local/lib/python3.7/dist-packages (from ipywidgets<8,>=7.6.0->ipyleaflet>=0.10.2->ipygee) (0.2.0)\n",
            "Requirement already satisfied: nbformat>=4.2.0 in /usr/local/lib/python3.7/dist-packages (from ipywidgets<8,>=7.6.0->ipyleaflet>=0.10.2->ipygee) (5.2.0)\n",
            "Requirement already satisfied: jupyterlab-widgets>=1.0.0 in /usr/local/lib/python3.7/dist-packages (from ipywidgets<8,>=7.6.0->ipyleaflet>=0.10.2->ipygee) (1.1.0)\n",
            "Requirement already satisfied: jupyter-client in /usr/local/lib/python3.7/dist-packages (from ipykernel>=4.5.1->ipywidgets<8,>=7.6.0->ipyleaflet>=0.10.2->ipygee) (5.3.5)\n",
            "Requirement already satisfied: tornado>=4.0 in /usr/local/lib/python3.7/dist-packages (from ipykernel>=4.5.1->ipywidgets<8,>=7.6.0->ipyleaflet>=0.10.2->ipygee) (5.1.1)\n",
            "Requirement already satisfied: pygments in /usr/local/lib/python3.7/dist-packages (from ipython>=4.0.0->ipywidgets<8,>=7.6.0->ipyleaflet>=0.10.2->ipygee) (2.6.1)\n",
            "Requirement already satisfied: simplegeneric>0.8 in /usr/local/lib/python3.7/dist-packages (from ipython>=4.0.0->ipywidgets<8,>=7.6.0->ipyleaflet>=0.10.2->ipygee) (0.8.1)\n",
            "Requirement already satisfied: pexpect in /usr/local/lib/python3.7/dist-packages (from ipython>=4.0.0->ipywidgets<8,>=7.6.0->ipyleaflet>=0.10.2->ipygee) (4.8.0)\n",
            "Requirement already satisfied: decorator in /usr/local/lib/python3.7/dist-packages (from ipython>=4.0.0->ipywidgets<8,>=7.6.0->ipyleaflet>=0.10.2->ipygee) (4.4.2)\n",
            "Requirement already satisfied: prompt-toolkit<2.0.0,>=1.0.4 in /usr/local/lib/python3.7/dist-packages (from ipython>=4.0.0->ipywidgets<8,>=7.6.0->ipyleaflet>=0.10.2->ipygee) (1.0.18)\n",
            "Requirement already satisfied: pickleshare in /usr/local/lib/python3.7/dist-packages (from ipython>=4.0.0->ipywidgets<8,>=7.6.0->ipyleaflet>=0.10.2->ipygee) (0.7.5)\n",
            "Requirement already satisfied: setuptools>=18.5 in /usr/local/lib/python3.7/dist-packages (from ipython>=4.0.0->ipywidgets<8,>=7.6.0->ipyleaflet>=0.10.2->ipygee) (57.4.0)\n",
            "Requirement already satisfied: jupyter-core in /usr/local/lib/python3.7/dist-packages (from nbformat>=4.2.0->ipywidgets<8,>=7.6.0->ipyleaflet>=0.10.2->ipygee) (4.9.2)\n",
            "Requirement already satisfied: jsonschema!=2.5.0,>=2.4 in /usr/local/lib/python3.7/dist-packages (from nbformat>=4.2.0->ipywidgets<8,>=7.6.0->ipyleaflet>=0.10.2->ipygee) (4.3.3)\n",
            "Requirement already satisfied: attrs>=17.4.0 in /usr/local/lib/python3.7/dist-packages (from jsonschema!=2.5.0,>=2.4->nbformat>=4.2.0->ipywidgets<8,>=7.6.0->ipyleaflet>=0.10.2->ipygee) (21.4.0)\n",
            "Requirement already satisfied: typing-extensions in /usr/local/lib/python3.7/dist-packages (from jsonschema!=2.5.0,>=2.4->nbformat>=4.2.0->ipywidgets<8,>=7.6.0->ipyleaflet>=0.10.2->ipygee) (3.10.0.2)\n",
            "Requirement already satisfied: importlib-resources>=1.4.0 in /usr/local/lib/python3.7/dist-packages (from jsonschema!=2.5.0,>=2.4->nbformat>=4.2.0->ipywidgets<8,>=7.6.0->ipyleaflet>=0.10.2->ipygee) (5.4.0)\n",
            "Requirement already satisfied: importlib-metadata in /usr/local/lib/python3.7/dist-packages (from jsonschema!=2.5.0,>=2.4->nbformat>=4.2.0->ipywidgets<8,>=7.6.0->ipyleaflet>=0.10.2->ipygee) (4.11.3)\n",
            "Requirement already satisfied: pyrsistent!=0.17.0,!=0.17.1,!=0.17.2,>=0.14.0 in /usr/local/lib/python3.7/dist-packages (from jsonschema!=2.5.0,>=2.4->nbformat>=4.2.0->ipywidgets<8,>=7.6.0->ipyleaflet>=0.10.2->ipygee) (0.18.1)\n",
            "Requirement already satisfied: zipp>=3.1.0 in /usr/local/lib/python3.7/dist-packages (from importlib-resources>=1.4.0->jsonschema!=2.5.0,>=2.4->nbformat>=4.2.0->ipywidgets<8,>=7.6.0->ipyleaflet>=0.10.2->ipygee) (3.7.0)\n",
            "Requirement already satisfied: six>=1.9.0 in /usr/local/lib/python3.7/dist-packages (from prompt-toolkit<2.0.0,>=1.0.4->ipython>=4.0.0->ipywidgets<8,>=7.6.0->ipyleaflet>=0.10.2->ipygee) (1.15.0)\n",
            "Requirement already satisfied: wcwidth in /usr/local/lib/python3.7/dist-packages (from prompt-toolkit<2.0.0,>=1.0.4->ipython>=4.0.0->ipywidgets<8,>=7.6.0->ipyleaflet>=0.10.2->ipygee) (0.2.5)\n",
            "Requirement already satisfied: notebook>=4.4.1 in /usr/local/lib/python3.7/dist-packages (from widgetsnbextension~=3.6.0->ipywidgets<8,>=7.6.0->ipyleaflet>=0.10.2->ipygee) (5.3.1)\n",
            "Requirement already satisfied: terminado>=0.8.1 in /usr/local/lib/python3.7/dist-packages (from notebook>=4.4.1->widgetsnbextension~=3.6.0->ipywidgets<8,>=7.6.0->ipyleaflet>=0.10.2->ipygee) (0.13.3)\n",
            "Requirement already satisfied: Send2Trash in /usr/local/lib/python3.7/dist-packages (from notebook>=4.4.1->widgetsnbextension~=3.6.0->ipywidgets<8,>=7.6.0->ipyleaflet>=0.10.2->ipygee) (1.8.0)\n",
            "Requirement already satisfied: jinja2 in /usr/local/lib/python3.7/dist-packages (from notebook>=4.4.1->widgetsnbextension~=3.6.0->ipywidgets<8,>=7.6.0->ipyleaflet>=0.10.2->ipygee) (2.11.3)\n",
            "Requirement already satisfied: nbconvert in /usr/local/lib/python3.7/dist-packages (from notebook>=4.4.1->widgetsnbextension~=3.6.0->ipywidgets<8,>=7.6.0->ipyleaflet>=0.10.2->ipygee) (5.6.1)\n",
            "Requirement already satisfied: python-dateutil>=2.1 in /usr/local/lib/python3.7/dist-packages (from jupyter-client->ipykernel>=4.5.1->ipywidgets<8,>=7.6.0->ipyleaflet>=0.10.2->ipygee) (2.8.2)\n",
            "Requirement already satisfied: pyzmq>=13 in /usr/local/lib/python3.7/dist-packages (from jupyter-client->ipykernel>=4.5.1->ipywidgets<8,>=7.6.0->ipyleaflet>=0.10.2->ipygee) (22.3.0)\n",
            "Requirement already satisfied: ptyprocess in /usr/local/lib/python3.7/dist-packages (from terminado>=0.8.1->notebook>=4.4.1->widgetsnbextension~=3.6.0->ipywidgets<8,>=7.6.0->ipyleaflet>=0.10.2->ipygee) (0.7.0)\n",
            "Requirement already satisfied: requests in /usr/local/lib/python3.7/dist-packages (from geetools->ipygee) (2.23.0)\n",
            "Collecting pyshp\n",
            "  Downloading pyshp-2.2.0-py3-none-any.whl (44 kB)\n",
            "\u001b[K     |████████████████████████████████| 44 kB 2.1 MB/s \n",
            "\u001b[?25hRequirement already satisfied: MarkupSafe>=0.23 in /usr/local/lib/python3.7/dist-packages (from jinja2->notebook>=4.4.1->widgetsnbextension~=3.6.0->ipywidgets<8,>=7.6.0->ipyleaflet>=0.10.2->ipygee) (2.0.1)\n",
            "Requirement already satisfied: pandocfilters>=1.4.1 in /usr/local/lib/python3.7/dist-packages (from nbconvert->notebook>=4.4.1->widgetsnbextension~=3.6.0->ipywidgets<8,>=7.6.0->ipyleaflet>=0.10.2->ipygee) (1.5.0)\n",
            "Requirement already satisfied: bleach in /usr/local/lib/python3.7/dist-packages (from nbconvert->notebook>=4.4.1->widgetsnbextension~=3.6.0->ipywidgets<8,>=7.6.0->ipyleaflet>=0.10.2->ipygee) (4.1.0)\n",
            "Requirement already satisfied: testpath in /usr/local/lib/python3.7/dist-packages (from nbconvert->notebook>=4.4.1->widgetsnbextension~=3.6.0->ipywidgets<8,>=7.6.0->ipyleaflet>=0.10.2->ipygee) (0.6.0)\n",
            "Requirement already satisfied: defusedxml in /usr/local/lib/python3.7/dist-packages (from nbconvert->notebook>=4.4.1->widgetsnbextension~=3.6.0->ipywidgets<8,>=7.6.0->ipyleaflet>=0.10.2->ipygee) (0.7.1)\n",
            "Requirement already satisfied: mistune<2,>=0.8.1 in /usr/local/lib/python3.7/dist-packages (from nbconvert->notebook>=4.4.1->widgetsnbextension~=3.6.0->ipywidgets<8,>=7.6.0->ipyleaflet>=0.10.2->ipygee) (0.8.4)\n",
            "Requirement already satisfied: entrypoints>=0.2.2 in /usr/local/lib/python3.7/dist-packages (from nbconvert->notebook>=4.4.1->widgetsnbextension~=3.6.0->ipywidgets<8,>=7.6.0->ipyleaflet>=0.10.2->ipygee) (0.4)\n",
            "Requirement already satisfied: packaging in /usr/local/lib/python3.7/dist-packages (from bleach->nbconvert->notebook>=4.4.1->widgetsnbextension~=3.6.0->ipywidgets<8,>=7.6.0->ipyleaflet>=0.10.2->ipygee) (21.3)\n",
            "Requirement already satisfied: webencodings in /usr/local/lib/python3.7/dist-packages (from bleach->nbconvert->notebook>=4.4.1->widgetsnbextension~=3.6.0->ipywidgets<8,>=7.6.0->ipyleaflet>=0.10.2->ipygee) (0.5.1)\n",
            "Requirement already satisfied: pyparsing!=3.0.5,>=2.0.2 in /usr/local/lib/python3.7/dist-packages (from packaging->bleach->nbconvert->notebook>=4.4.1->widgetsnbextension~=3.6.0->ipywidgets<8,>=7.6.0->ipyleaflet>=0.10.2->ipygee) (3.0.7)\n",
            "Requirement already satisfied: numpy>=1.17.3 in /usr/local/lib/python3.7/dist-packages (from pandas->ipygee) (1.21.5)\n",
            "Requirement already satisfied: pytz>=2017.3 in /usr/local/lib/python3.7/dist-packages (from pandas->ipygee) (2018.9)\n",
            "Requirement already satisfied: certifi>=2017.4.17 in /usr/local/lib/python3.7/dist-packages (from requests->geetools->ipygee) (2021.10.8)\n",
            "Requirement already satisfied: chardet<4,>=3.0.2 in /usr/local/lib/python3.7/dist-packages (from requests->geetools->ipygee) (3.0.4)\n",
            "Requirement already satisfied: idna<3,>=2.5 in /usr/local/lib/python3.7/dist-packages (from requests->geetools->ipygee) (2.10)\n",
            "Requirement already satisfied: urllib3!=1.25.0,!=1.25.1,<1.26,>=1.21.1 in /usr/local/lib/python3.7/dist-packages (from requests->geetools->ipygee) (1.24.3)\n",
            "Building wheels for collected packages: ipygee, geetools\n",
            "  Building wheel for ipygee (setup.py) ... \u001b[?25l\u001b[?25hdone\n",
            "  Created wheel for ipygee: filename=ipygee-0.0.17-py3-none-any.whl size=40379 sha256=ff71b44ca05786d666089bb57ee4d43315c504edffea1145133d4f636fa8b4b6\n",
            "  Stored in directory: /root/.cache/pip/wheels/73/af/7e/a9d3fac7d32e649c63fdbdb9b320181b20eb4bfdc80af13974\n",
            "  Building wheel for geetools (setup.py) ... \u001b[?25l\u001b[?25hdone\n",
            "  Created wheel for geetools: filename=geetools-0.6.14-py3-none-any.whl size=92107 sha256=a4f8847a165f80a8805748da2fa2b263c5193317ab509dad444e160f56de06b7\n",
            "  Stored in directory: /root/.cache/pip/wheels/5c/55/29/0a09dcf6b39bba8c890e40171cac3e3607a5c4b354b7e9447c\n",
            "Successfully built ipygee geetools\n",
            "Installing collected packages: xyzservices, traittypes, pyshp, pygal, ipyleaflet, geetools, ipygee\n",
            "Successfully installed geetools-0.6.14 ipygee-0.0.17 ipyleaflet-0.15.0 pygal-3.0.0 pyshp-2.2.0 traittypes-0.2.1 xyzservices-2022.3.0\n"
          ]
        }
      ]
    },
    {
      "cell_type": "code",
      "source": [
        "#import libs\n",
        "import numpy as np\n",
        "import matplotlib.pyplot as plt\n",
        "import pandas as pd\n",
        "import geopandas as gpd\n",
        "import json\n",
        "import ee\n",
        "%matplotlib inline\n",
        "import seaborn as sns\n",
        "from ipygee import*\n",
        "import altair as alt\n",
        "from shapely.geometry import Polygon"
      ],
      "metadata": {
        "id": "d26p5GfPb1uJ"
      },
      "execution_count": null,
      "outputs": []
    },
    {
      "cell_type": "code",
      "source": [
        "# GEE Authentication\n",
        "ee.Authenticate()\n",
        "ee.Initialize()"
      ],
      "metadata": {
        "colab": {
          "base_uri": "https://localhost:8080/"
        },
        "id": "pyzytJeBc2h4",
        "outputId": "c6e5b819-9d38-4403-efeb-8591203b4c04"
      },
      "execution_count": null,
      "outputs": [
        {
          "output_type": "stream",
          "name": "stdout",
          "text": [
            "To authorize access needed by Earth Engine, open the following URL in a web browser and follow the instructions. If the web browser does not start automatically, please manually browse the URL below.\n",
            "\n",
            "    https://accounts.google.com/o/oauth2/auth?client_id=517222506229-vsmmajv00ul0bs7p89v5m89qs8eb9359.apps.googleusercontent.com&scope=https%3A%2F%2Fwww.googleapis.com%2Fauth%2Fearthengine+https%3A%2F%2Fwww.googleapis.com%2Fauth%2Fdevstorage.full_control&redirect_uri=urn%3Aietf%3Awg%3Aoauth%3A2.0%3Aoob&response_type=code&code_challenge=xB9HDA-YJyK1GKjl3KvhZ92CnttTuL9Zy8zedN20iV8&code_challenge_method=S256\n",
            "\n",
            "The authorization workflow will generate a code, which you should paste in the box below. \n",
            "Enter verification code: 4/1AX4XfWjkLIRPy9PmTOh-vFBka99C3o7lRTM5Wa9UpG3t5mBgVaMuTzN7RaI\n",
            "\n",
            "Successfully saved authorization token.\n"
          ]
        }
      ]
    },
    {
      "cell_type": "code",
      "source": [
        "#@title Default title text\n",
        "from google.colab import drive\n",
        "drive.mount('/content/drive', force_remount=True)"
      ],
      "metadata": {
        "colab": {
          "base_uri": "https://localhost:8080/"
        },
        "id": "jHWns1IKioAJ",
        "outputId": "ab522eaf-55af-449c-d89e-1915fa497a1f",
        "cellView": "code"
      },
      "execution_count": null,
      "outputs": [
        {
          "output_type": "stream",
          "name": "stdout",
          "text": [
            "Mounted at /content/drive\n"
          ]
        }
      ]
    },
    {
      "cell_type": "code",
      "source": [
        "# read the shapefile of the study area\n",
        "area = gpd.read_file('/content/drive/MyDrive/Colab Notebooks/VPLN_cities.shp')\n",
        "\n",
        "# converting from shapefile to json (aoi = area of interesting)\n",
        "aoi = area.to_json()\n",
        "# load json file\n",
        "aoi = json.loads(aoi)\n",
        "# select features\n",
        "aoi = aoi['features']\n",
        "\n",
        "aoi = ee.FeatureCollection(aoi).geometry()\n",
        "\n",
        "# Due to the RAM memory limit in EE virtual machine, it's recommended \n",
        "# to generate 5 years for each execution\n",
        "# \"endyear\" defines the time range, but itself isn't included, i.e. \n",
        "# startyear1 >= 2000 and endyear1<2005\n",
        "startyear1 = 2000\n",
        "endyear1 = 2005\n",
        "\n",
        "# Set date in ee date format\n",
        "startdate1 = ee.Date.fromYMD(startyear1,1,1)\n",
        "enddate1 = ee.Date.fromYMD(endyear1,12,31)\n",
        "\n",
        "# Make a list for years\n",
        "years1 = range(startyear1, endyear1);\n",
        "\n",
        "# Make a list for months\n",
        "months = range(1,13)\n",
        "\n",
        "# Set date in ee date format\n",
        "start_date1 = ee.Date.fromYMD(startyear1,1,1)\n",
        "end_date1 = ee.Date.fromYMD(endyear1,12,31)\n",
        "\n",
        "# Importing precipitation data\n",
        "CHIRPS1 = ee.ImageCollection('UCSB-CHG/CHIRPS/DAILY')\\\n",
        "                            .select('precipitation')\\\n",
        "                            .filterDate(start_date1,end_date1)\\\n",
        "                            .filterBounds(aoi)\\\n",
        "\n",
        "# Defining dates lists\n",
        "dates_chirps1 = CHIRPS1.aggregate_array('system:time_start').map(lambda d: ee.Date(d).format('YYYY-MM-DD'))\n",
        "print(dates_chirps1.getInfo())\n",
        "\n",
        "# Defining dates lists\n",
        "def date (image):\n",
        "  return image.clip(aoi).copyProperties(image, ['system:time_start']).set('date', image.date().format())\n",
        "\n",
        "CHIRPS1 = CHIRPS1.map(date)\n",
        "CHIRPS1.first().propertyNames().getInfo()\n",
        "\n",
        "#  Calculating Monthly Sum\n",
        "def MonthlySum1(imageCollection1):\n",
        "  mylist1 = ee.List([])\n",
        "  for y in years1:\n",
        "    for m in months:\n",
        "      w = imageCollection1.filter(ee.Filter.calendarRange(y, y, 'year')).filter(ee.Filter.calendarRange(m, m, 'month')).sum()\n",
        "      mylist1 = mylist1.add(w.set('year', y)\\\n",
        "                          .set('month', m)\\\n",
        "                          .set('date', ee.Date.fromYMD(y,m,1)))\n",
        "  \n",
        "  return ee.ImageCollection.fromImages(mylist1).set('date', ee.Date.fromYMD(y, m, 1))\\\n",
        "\n",
        "# run the calcMonthlyMean function\n",
        "monthlyCHIRPS = ee.ImageCollection(MonthlySum1(CHIRPS1))\n",
        "monthlyCHIRPS.first().propertyNames().getInfo()\n",
        "\n",
        "print(\"First from CHIRPS\")\n",
        "print(monthlyCHIRPS.first().getInfo())\n",
        "# print(\"All from CHIRPS\")\n",
        "# print(monthlyCHIRPS.getInfo())"
      ],
      "metadata": {
        "colab": {
          "base_uri": "https://localhost:8080/"
        },
        "outputId": "43719293-9493-4744-b8a2-ffff8c9684eb",
        "cellView": "code",
        "id": "WlawoVmikp9k"
      },
      "execution_count": null,
      "outputs": [
        {
          "output_type": "stream",
          "name": "stdout",
          "text": [
            "['2015-01-01', '2015-01-02', '2015-01-03', '2015-01-04', '2015-01-05', '2015-01-06', '2015-01-07', '2015-01-08', '2015-01-09', '2015-01-10', '2015-01-11', '2015-01-12', '2015-01-13', '2015-01-14', '2015-01-15', '2015-01-16', '2015-01-17', '2015-01-18', '2015-01-19', '2015-01-20', '2015-01-21', '2015-01-22', '2015-01-23', '2015-01-24', '2015-01-25', '2015-01-26', '2015-01-27', '2015-01-28', '2015-01-29', '2015-01-30', '2015-01-31', '2015-02-32', '2015-02-33', '2015-02-34', '2015-02-35', '2015-02-36', '2015-02-37', '2015-02-38', '2015-02-39', '2015-02-40', '2015-02-41', '2015-02-42', '2015-02-43', '2015-02-44', '2015-02-45', '2015-02-46', '2015-02-47', '2015-02-48', '2015-02-49', '2015-02-50', '2015-02-51', '2015-02-52', '2015-02-53', '2015-02-54', '2015-02-55', '2015-02-56', '2015-02-57', '2015-02-58', '2015-02-59', '2015-03-60', '2015-03-61', '2015-03-62', '2015-03-63', '2015-03-64', '2015-03-65', '2015-03-66', '2015-03-67', '2015-03-68', '2015-03-69', '2015-03-70', '2015-03-71', '2015-03-72', '2015-03-73', '2015-03-74', '2015-03-75', '2015-03-76', '2015-03-77', '2015-03-78', '2015-03-79', '2015-03-80', '2015-03-81', '2015-03-82', '2015-03-83', '2015-03-84', '2015-03-85', '2015-03-86', '2015-03-87', '2015-03-88', '2015-03-89', '2015-03-90', '2015-04-91', '2015-04-92', '2015-04-93', '2015-04-94', '2015-04-95', '2015-04-96', '2015-04-97', '2015-04-98', '2015-04-99', '2015-04-100', '2015-04-101', '2015-04-102', '2015-04-103', '2015-04-104', '2015-04-105', '2015-04-106', '2015-04-107', '2015-04-108', '2015-04-109', '2015-04-110', '2015-04-111', '2015-04-112', '2015-04-113', '2015-04-114', '2015-04-115', '2015-04-116', '2015-04-117', '2015-04-118', '2015-04-119', '2015-04-120', '2015-05-121', '2015-05-122', '2015-05-123', '2015-05-124', '2015-05-125', '2015-05-126', '2015-05-127', '2015-05-128', '2015-05-129', '2015-05-130', '2015-05-131', '2015-05-132', '2015-05-133', '2015-05-134', '2015-05-135', '2015-05-136', '2015-05-137', '2015-05-138', '2015-05-139', '2015-05-140', '2015-05-141', '2015-05-142', '2015-05-143', '2015-05-144', '2015-05-145', '2015-05-146', '2015-05-147', '2015-05-148', '2015-05-149', '2015-05-150', '2015-05-151', '2015-06-152', '2015-06-153', '2015-06-154', '2015-06-155', '2015-06-156', '2015-06-157', '2015-06-158', '2015-06-159', '2015-06-160', '2015-06-161', '2015-06-162', '2015-06-163', '2015-06-164', '2015-06-165', '2015-06-166', '2015-06-167', '2015-06-168', '2015-06-169', '2015-06-170', '2015-06-171', '2015-06-172', '2015-06-173', '2015-06-174', '2015-06-175', '2015-06-176', '2015-06-177', '2015-06-178', '2015-06-179', '2015-06-180', '2015-06-181', '2015-07-182', '2015-07-183', '2015-07-184', '2015-07-185', '2015-07-186', '2015-07-187', '2015-07-188', '2015-07-189', '2015-07-190', '2015-07-191', '2015-07-192', '2015-07-193', '2015-07-194', '2015-07-195', '2015-07-196', '2015-07-197', '2015-07-198', '2015-07-199', '2015-07-200', '2015-07-201', '2015-07-202', '2015-07-203', '2015-07-204', '2015-07-205', '2015-07-206', '2015-07-207', '2015-07-208', '2015-07-209', '2015-07-210', '2015-07-211', '2015-07-212', '2015-08-213', '2015-08-214', '2015-08-215', '2015-08-216', '2015-08-217', '2015-08-218', '2015-08-219', '2015-08-220', '2015-08-221', '2015-08-222', '2015-08-223', '2015-08-224', '2015-08-225', '2015-08-226', '2015-08-227', '2015-08-228', '2015-08-229', '2015-08-230', '2015-08-231', '2015-08-232', '2015-08-233', '2015-08-234', '2015-08-235', '2015-08-236', '2015-08-237', '2015-08-238', '2015-08-239', '2015-08-240', '2015-08-241', '2015-08-242', '2015-08-243', '2015-09-244', '2015-09-245', '2015-09-246', '2015-09-247', '2015-09-248', '2015-09-249', '2015-09-250', '2015-09-251', '2015-09-252', '2015-09-253', '2015-09-254', '2015-09-255', '2015-09-256', '2015-09-257', '2015-09-258', '2015-09-259', '2015-09-260', '2015-09-261', '2015-09-262', '2015-09-263', '2015-09-264', '2015-09-265', '2015-09-266', '2015-09-267', '2015-09-268', '2015-09-269', '2015-09-270', '2015-09-271', '2015-09-272', '2015-09-273', '2015-10-274', '2015-10-275', '2015-10-276', '2015-10-277', '2015-10-278', '2015-10-279', '2015-10-280', '2015-10-281', '2015-10-282', '2015-10-283', '2015-10-284', '2015-10-285', '2015-10-286', '2015-10-287', '2015-10-288', '2015-10-289', '2015-10-290', '2015-10-291', '2015-10-292', '2015-10-293', '2015-10-294', '2015-10-295', '2015-10-296', '2015-10-297', '2015-10-298', '2015-10-299', '2015-10-300', '2015-10-301', '2015-10-302', '2015-10-303', '2015-10-304', '2015-11-305', '2015-11-306', '2015-11-307', '2015-11-308', '2015-11-309', '2015-11-310', '2015-11-311', '2015-11-312', '2015-11-313', '2015-11-314', '2015-11-315', '2015-11-316', '2015-11-317', '2015-11-318', '2015-11-319', '2015-11-320', '2015-11-321', '2015-11-322', '2015-11-323', '2015-11-324', '2015-11-325', '2015-11-326', '2015-11-327', '2015-11-328', '2015-11-329', '2015-11-330', '2015-11-331', '2015-11-332', '2015-11-333', '2015-11-334', '2015-12-335', '2015-12-336', '2015-12-337', '2015-12-338', '2015-12-339', '2015-12-340', '2015-12-341', '2015-12-342', '2015-12-343', '2015-12-344', '2015-12-345', '2015-12-346', '2015-12-347', '2015-12-348', '2015-12-349', '2015-12-350', '2015-12-351', '2015-12-352', '2015-12-353', '2015-12-354', '2015-12-355', '2015-12-356', '2015-12-357', '2015-12-358', '2015-12-359', '2015-12-360', '2015-12-361', '2015-12-362', '2015-12-363', '2015-12-364', '2015-12-365', '2016-01-01', '2016-01-02', '2016-01-03', '2016-01-04', '2016-01-05', '2016-01-06', '2016-01-07', '2016-01-08', '2016-01-09', '2016-01-10', '2016-01-11', '2016-01-12', '2016-01-13', '2016-01-14', '2016-01-15', '2016-01-16', '2016-01-17', '2016-01-18', '2016-01-19', '2016-01-20', '2016-01-21', '2016-01-22', '2016-01-23', '2016-01-24', '2016-01-25', '2016-01-26', '2016-01-27', '2016-01-28', '2016-01-29', '2016-01-30', '2016-01-31', '2016-02-32', '2016-02-33', '2016-02-34', '2016-02-35', '2016-02-36', '2016-02-37', '2016-02-38', '2016-02-39', '2016-02-40', '2016-02-41', '2016-02-42', '2016-02-43', '2016-02-44', '2016-02-45', '2016-02-46', '2016-02-47', '2016-02-48', '2016-02-49', '2016-02-50', '2016-02-51', '2016-02-52', '2016-02-53', '2016-02-54', '2016-02-55', '2016-02-56', '2016-02-57', '2016-02-58', '2016-02-59', '2016-02-60', '2016-03-61', '2016-03-62', '2016-03-63', '2016-03-64', '2016-03-65', '2016-03-66', '2016-03-67', '2016-03-68', '2016-03-69', '2016-03-70', '2016-03-71', '2016-03-72', '2016-03-73', '2016-03-74', '2016-03-75', '2016-03-76', '2016-03-77', '2016-03-78', '2016-03-79', '2016-03-80', '2016-03-81', '2016-03-82', '2016-03-83', '2016-03-84', '2016-03-85', '2016-03-86', '2016-03-87', '2016-03-88', '2016-03-89', '2016-03-90', '2016-03-91', '2016-04-92', '2016-04-93', '2016-04-94', '2016-04-95', '2016-04-96', '2016-04-97', '2016-04-98', '2016-04-99', '2016-04-100', '2016-04-101', '2016-04-102', '2016-04-103', '2016-04-104', '2016-04-105', '2016-04-106', '2016-04-107', '2016-04-108', '2016-04-109', '2016-04-110', '2016-04-111', '2016-04-112', '2016-04-113', '2016-04-114', '2016-04-115', '2016-04-116', '2016-04-117', '2016-04-118', '2016-04-119', '2016-04-120', '2016-04-121', '2016-05-122', '2016-05-123', '2016-05-124', '2016-05-125', '2016-05-126', '2016-05-127', '2016-05-128', '2016-05-129', '2016-05-130', '2016-05-131', '2016-05-132', '2016-05-133', '2016-05-134', '2016-05-135', '2016-05-136', '2016-05-137', '2016-05-138', '2016-05-139', '2016-05-140', '2016-05-141', '2016-05-142', '2016-05-143', '2016-05-144', '2016-05-145', '2016-05-146', '2016-05-147', '2016-05-148', '2016-05-149', '2016-05-150', '2016-05-151', '2016-05-152', '2016-06-153', '2016-06-154', '2016-06-155', '2016-06-156', '2016-06-157', '2016-06-158', '2016-06-159', '2016-06-160', '2016-06-161', '2016-06-162', '2016-06-163', '2016-06-164', '2016-06-165', '2016-06-166', '2016-06-167', '2016-06-168', '2016-06-169', '2016-06-170', '2016-06-171', '2016-06-172', '2016-06-173', '2016-06-174', '2016-06-175', '2016-06-176', '2016-06-177', '2016-06-178', '2016-06-179', '2016-06-180', '2016-06-181', '2016-06-182', '2016-07-183', '2016-07-184', '2016-07-185', '2016-07-186', '2016-07-187', '2016-07-188', '2016-07-189', '2016-07-190', '2016-07-191', '2016-07-192', '2016-07-193', '2016-07-194', '2016-07-195', '2016-07-196', '2016-07-197', '2016-07-198', '2016-07-199', '2016-07-200', '2016-07-201', '2016-07-202', '2016-07-203', '2016-07-204', '2016-07-205', '2016-07-206', '2016-07-207', '2016-07-208', '2016-07-209', '2016-07-210', '2016-07-211', '2016-07-212', '2016-07-213', '2016-08-214', '2016-08-215', '2016-08-216', '2016-08-217', '2016-08-218', '2016-08-219', '2016-08-220', '2016-08-221', '2016-08-222', '2016-08-223', '2016-08-224', '2016-08-225', '2016-08-226', '2016-08-227', '2016-08-228', '2016-08-229', '2016-08-230', '2016-08-231', '2016-08-232', '2016-08-233', '2016-08-234', '2016-08-235', '2016-08-236', '2016-08-237', '2016-08-238', '2016-08-239', '2016-08-240', '2016-08-241', '2016-08-242', '2016-08-243', '2016-08-244', '2016-09-245', '2016-09-246', '2016-09-247', '2016-09-248', '2016-09-249', '2016-09-250', '2016-09-251', '2016-09-252', '2016-09-253', '2016-09-254', '2016-09-255', '2016-09-256', '2016-09-257', '2016-09-258', '2016-09-259', '2016-09-260', '2016-09-261', '2016-09-262', '2016-09-263', '2016-09-264', '2016-09-265', '2016-09-266', '2016-09-267', '2016-09-268', '2016-09-269', '2016-09-270', '2016-09-271', '2016-09-272', '2016-09-273', '2016-09-274', '2016-10-275', '2016-10-276', '2016-10-277', '2016-10-278', '2016-10-279', '2016-10-280', '2016-10-281', '2016-10-282', '2016-10-283', '2016-10-284', '2016-10-285', '2016-10-286', '2016-10-287', '2016-10-288', '2016-10-289', '2016-10-290', '2016-10-291', '2016-10-292', '2016-10-293', '2016-10-294', '2016-10-295', '2016-10-296', '2016-10-297', '2016-10-298', '2016-10-299', '2016-10-300', '2016-10-301', '2016-10-302', '2016-10-303', '2016-10-304', '2016-10-305', '2016-11-306', '2016-11-307', '2016-11-308', '2016-11-309', '2016-11-310', '2016-11-311', '2016-11-312', '2016-11-313', '2016-11-314', '2016-11-315', '2016-11-316', '2016-11-317', '2016-11-318', '2016-11-319', '2016-11-320', '2016-11-321', '2016-11-322', '2016-11-323', '2016-11-324', '2016-11-325', '2016-11-326', '2016-11-327', '2016-11-328', '2016-11-329', '2016-11-330', '2016-11-331', '2016-11-332', '2016-11-333', '2016-11-334', '2016-11-335', '2016-12-336', '2016-12-337', '2016-12-338', '2016-12-339', '2016-12-340', '2016-12-341', '2016-12-342', '2016-12-343', '2016-12-344', '2016-12-345', '2016-12-346', '2016-12-347', '2016-12-348', '2016-12-349', '2016-12-350', '2016-12-351', '2016-12-352', '2016-12-353', '2016-12-354', '2016-12-355', '2016-12-356', '2016-12-357', '2016-12-358', '2016-12-359', '2016-12-360', '2016-12-361', '2016-12-362', '2016-12-363', '2016-12-364', '2016-12-365', '2016-12-366', '2017-01-01', '2017-01-02', '2017-01-03', '2017-01-04', '2017-01-05', '2017-01-06', '2017-01-07', '2017-01-08', '2017-01-09', '2017-01-10', '2017-01-11', '2017-01-12', '2017-01-13', '2017-01-14', '2017-01-15', '2017-01-16', '2017-01-17', '2017-01-18', '2017-01-19', '2017-01-20', '2017-01-21', '2017-01-22', '2017-01-23', '2017-01-24', '2017-01-25', '2017-01-26', '2017-01-27', '2017-01-28', '2017-01-29', '2017-01-30', '2017-01-31', '2017-02-32', '2017-02-33', '2017-02-34', '2017-02-35', '2017-02-36', '2017-02-37', '2017-02-38', '2017-02-39', '2017-02-40', '2017-02-41', '2017-02-42', '2017-02-43', '2017-02-44', '2017-02-45', '2017-02-46', '2017-02-47', '2017-02-48', '2017-02-49', '2017-02-50', '2017-02-51', '2017-02-52', '2017-02-53', '2017-02-54', '2017-02-55', '2017-02-56', '2017-02-57', '2017-02-58', '2017-02-59', '2017-03-60', '2017-03-61', '2017-03-62', '2017-03-63', '2017-03-64', '2017-03-65', '2017-03-66', '2017-03-67', '2017-03-68', '2017-03-69', '2017-03-70', '2017-03-71', '2017-03-72', '2017-03-73', '2017-03-74', '2017-03-75', '2017-03-76', '2017-03-77', '2017-03-78', '2017-03-79', '2017-03-80', '2017-03-81', '2017-03-82', '2017-03-83', '2017-03-84', '2017-03-85', '2017-03-86', '2017-03-87', '2017-03-88', '2017-03-89', '2017-03-90', '2017-04-91', '2017-04-92', '2017-04-93', '2017-04-94', '2017-04-95', '2017-04-96', '2017-04-97', '2017-04-98', '2017-04-99', '2017-04-100', '2017-04-101', '2017-04-102', '2017-04-103', '2017-04-104', '2017-04-105', '2017-04-106', '2017-04-107', '2017-04-108', '2017-04-109', '2017-04-110', '2017-04-111', '2017-04-112', '2017-04-113', '2017-04-114', '2017-04-115', '2017-04-116', '2017-04-117', '2017-04-118', '2017-04-119', '2017-04-120', '2017-05-121', '2017-05-122', '2017-05-123', '2017-05-124', '2017-05-125', '2017-05-126', '2017-05-127', '2017-05-128', '2017-05-129', '2017-05-130', '2017-05-131', '2017-05-132', '2017-05-133', '2017-05-134', '2017-05-135', '2017-05-136', '2017-05-137', '2017-05-138', '2017-05-139', '2017-05-140', '2017-05-141', '2017-05-142', '2017-05-143', '2017-05-144', '2017-05-145', '2017-05-146', '2017-05-147', '2017-05-148', '2017-05-149', '2017-05-150', '2017-05-151', '2017-06-152', '2017-06-153', '2017-06-154', '2017-06-155', '2017-06-156', '2017-06-157', '2017-06-158', '2017-06-159', '2017-06-160', '2017-06-161', '2017-06-162', '2017-06-163', '2017-06-164', '2017-06-165', '2017-06-166', '2017-06-167', '2017-06-168', '2017-06-169', '2017-06-170', '2017-06-171', '2017-06-172', '2017-06-173', '2017-06-174', '2017-06-175', '2017-06-176', '2017-06-177', '2017-06-178', '2017-06-179', '2017-06-180', '2017-06-181', '2017-07-182', '2017-07-183', '2017-07-184', '2017-07-185', '2017-07-186', '2017-07-187', '2017-07-188', '2017-07-189', '2017-07-190', '2017-07-191', '2017-07-192', '2017-07-193', '2017-07-194', '2017-07-195', '2017-07-196', '2017-07-197', '2017-07-198', '2017-07-199', '2017-07-200', '2017-07-201', '2017-07-202', '2017-07-203', '2017-07-204', '2017-07-205', '2017-07-206', '2017-07-207', '2017-07-208', '2017-07-209', '2017-07-210', '2017-07-211', '2017-07-212', '2017-08-213', '2017-08-214', '2017-08-215', '2017-08-216', '2017-08-217', '2017-08-218', '2017-08-219', '2017-08-220', '2017-08-221', '2017-08-222', '2017-08-223', '2017-08-224', '2017-08-225', '2017-08-226', '2017-08-227', '2017-08-228', '2017-08-229', '2017-08-230', '2017-08-231', '2017-08-232', '2017-08-233', '2017-08-234', '2017-08-235', '2017-08-236', '2017-08-237', '2017-08-238', '2017-08-239', '2017-08-240', '2017-08-241', '2017-08-242', '2017-08-243', '2017-09-244', '2017-09-245', '2017-09-246', '2017-09-247', '2017-09-248', '2017-09-249', '2017-09-250', '2017-09-251', '2017-09-252', '2017-09-253', '2017-09-254', '2017-09-255', '2017-09-256', '2017-09-257', '2017-09-258', '2017-09-259', '2017-09-260', '2017-09-261', '2017-09-262', '2017-09-263', '2017-09-264', '2017-09-265', '2017-09-266', '2017-09-267', '2017-09-268', '2017-09-269', '2017-09-270', '2017-09-271', '2017-09-272', '2017-09-273', '2017-10-274', '2017-10-275', '2017-10-276', '2017-10-277', '2017-10-278', '2017-10-279', '2017-10-280', '2017-10-281', '2017-10-282', '2017-10-283', '2017-10-284', '2017-10-285', '2017-10-286', '2017-10-287', '2017-10-288', '2017-10-289', '2017-10-290', '2017-10-291', '2017-10-292', '2017-10-293', '2017-10-294', '2017-10-295', '2017-10-296', '2017-10-297', '2017-10-298', '2017-10-299', '2017-10-300', '2017-10-301', '2017-10-302', '2017-10-303', '2017-10-304', '2017-11-305', '2017-11-306', '2017-11-307', '2017-11-308', '2017-11-309', '2017-11-310', '2017-11-311', '2017-11-312', '2017-11-313', '2017-11-314', '2017-11-315', '2017-11-316', '2017-11-317', '2017-11-318', '2017-11-319', '2017-11-320', '2017-11-321', '2017-11-322', '2017-11-323', '2017-11-324', '2017-11-325', '2017-11-326', '2017-11-327', '2017-11-328', '2017-11-329', '2017-11-330', '2017-11-331', '2017-11-332', '2017-11-333', '2017-11-334', '2017-12-335', '2017-12-336', '2017-12-337', '2017-12-338', '2017-12-339', '2017-12-340', '2017-12-341', '2017-12-342', '2017-12-343', '2017-12-344', '2017-12-345', '2017-12-346', '2017-12-347', '2017-12-348', '2017-12-349', '2017-12-350', '2017-12-351', '2017-12-352', '2017-12-353', '2017-12-354', '2017-12-355', '2017-12-356', '2017-12-357', '2017-12-358', '2017-12-359', '2017-12-360', '2017-12-361', '2017-12-362', '2017-12-363', '2017-12-364', '2017-12-365', '2018-01-01', '2018-01-02', '2018-01-03', '2018-01-04', '2018-01-05', '2018-01-06', '2018-01-07', '2018-01-08', '2018-01-09', '2018-01-10', '2018-01-11', '2018-01-12', '2018-01-13', '2018-01-14', '2018-01-15', '2018-01-16', '2018-01-17', '2018-01-18', '2018-01-19', '2018-01-20', '2018-01-21', '2018-01-22', '2018-01-23', '2018-01-24', '2018-01-25', '2018-01-26', '2018-01-27', '2018-01-28', '2018-01-29', '2018-01-30', '2018-01-31', '2018-02-32', '2018-02-33', '2018-02-34', '2018-02-35', '2018-02-36', '2018-02-37', '2018-02-38', '2018-02-39', '2018-02-40', '2018-02-41', '2018-02-42', '2018-02-43', '2018-02-44', '2018-02-45', '2018-02-46', '2018-02-47', '2018-02-48', '2018-02-49', '2018-02-50', '2018-02-51', '2018-02-52', '2018-02-53', '2018-02-54', '2018-02-55', '2018-02-56', '2018-02-57', '2018-02-58', '2018-02-59', '2018-03-60', '2018-03-61', '2018-03-62', '2018-03-63', '2018-03-64', '2018-03-65', '2018-03-66', '2018-03-67', '2018-03-68', '2018-03-69', '2018-03-70', '2018-03-71', '2018-03-72', '2018-03-73', '2018-03-74', '2018-03-75', '2018-03-76', '2018-03-77', '2018-03-78', '2018-03-79', '2018-03-80', '2018-03-81', '2018-03-82', '2018-03-83', '2018-03-84', '2018-03-85', '2018-03-86', '2018-03-87', '2018-03-88', '2018-03-89', '2018-03-90', '2018-04-91', '2018-04-92', '2018-04-93', '2018-04-94', '2018-04-95', '2018-04-96', '2018-04-97', '2018-04-98', '2018-04-99', '2018-04-100', '2018-04-101', '2018-04-102', '2018-04-103', '2018-04-104', '2018-04-105', '2018-04-106', '2018-04-107', '2018-04-108', '2018-04-109', '2018-04-110', '2018-04-111', '2018-04-112', '2018-04-113', '2018-04-114', '2018-04-115', '2018-04-116', '2018-04-117', '2018-04-118', '2018-04-119', '2018-04-120', '2018-05-121', '2018-05-122', '2018-05-123', '2018-05-124', '2018-05-125', '2018-05-126', '2018-05-127', '2018-05-128', '2018-05-129', '2018-05-130', '2018-05-131', '2018-05-132', '2018-05-133', '2018-05-134', '2018-05-135', '2018-05-136', '2018-05-137', '2018-05-138', '2018-05-139', '2018-05-140', '2018-05-141', '2018-05-142', '2018-05-143', '2018-05-144', '2018-05-145', '2018-05-146', '2018-05-147', '2018-05-148', '2018-05-149', '2018-05-150', '2018-05-151', '2018-06-152', '2018-06-153', '2018-06-154', '2018-06-155', '2018-06-156', '2018-06-157', '2018-06-158', '2018-06-159', '2018-06-160', '2018-06-161', '2018-06-162', '2018-06-163', '2018-06-164', '2018-06-165', '2018-06-166', '2018-06-167', '2018-06-168', '2018-06-169', '2018-06-170', '2018-06-171', '2018-06-172', '2018-06-173', '2018-06-174', '2018-06-175', '2018-06-176', '2018-06-177', '2018-06-178', '2018-06-179', '2018-06-180', '2018-06-181', '2018-07-182', '2018-07-183', '2018-07-184', '2018-07-185', '2018-07-186', '2018-07-187', '2018-07-188', '2018-07-189', '2018-07-190', '2018-07-191', '2018-07-192', '2018-07-193', '2018-07-194', '2018-07-195', '2018-07-196', '2018-07-197', '2018-07-198', '2018-07-199', '2018-07-200', '2018-07-201', '2018-07-202', '2018-07-203', '2018-07-204', '2018-07-205', '2018-07-206', '2018-07-207', '2018-07-208', '2018-07-209', '2018-07-210', '2018-07-211', '2018-07-212', '2018-08-213', '2018-08-214', '2018-08-215', '2018-08-216', '2018-08-217', '2018-08-218', '2018-08-219', '2018-08-220', '2018-08-221', '2018-08-222', '2018-08-223', '2018-08-224', '2018-08-225', '2018-08-226', '2018-08-227', '2018-08-228', '2018-08-229', '2018-08-230', '2018-08-231', '2018-08-232', '2018-08-233', '2018-08-234', '2018-08-235', '2018-08-236', '2018-08-237', '2018-08-238', '2018-08-239', '2018-08-240', '2018-08-241', '2018-08-242', '2018-08-243', '2018-09-244', '2018-09-245', '2018-09-246', '2018-09-247', '2018-09-248', '2018-09-249', '2018-09-250', '2018-09-251', '2018-09-252', '2018-09-253', '2018-09-254', '2018-09-255', '2018-09-256', '2018-09-257', '2018-09-258', '2018-09-259', '2018-09-260', '2018-09-261', '2018-09-262', '2018-09-263', '2018-09-264', '2018-09-265', '2018-09-266', '2018-09-267', '2018-09-268', '2018-09-269', '2018-09-270', '2018-09-271', '2018-09-272', '2018-09-273', '2018-10-274', '2018-10-275', '2018-10-276', '2018-10-277', '2018-10-278', '2018-10-279', '2018-10-280', '2018-10-281', '2018-10-282', '2018-10-283', '2018-10-284', '2018-10-285', '2018-10-286', '2018-10-287', '2018-10-288', '2018-10-289', '2018-10-290', '2018-10-291', '2018-10-292', '2018-10-293', '2018-10-294', '2018-10-295', '2018-10-296', '2018-10-297', '2018-10-298', '2018-10-299', '2018-10-300', '2018-10-301', '2018-10-302', '2018-10-303', '2018-10-304', '2018-11-305', '2018-11-306', '2018-11-307', '2018-11-308', '2018-11-309', '2018-11-310', '2018-11-311', '2018-11-312', '2018-11-313', '2018-11-314', '2018-11-315', '2018-11-316', '2018-11-317', '2018-11-318', '2018-11-319', '2018-11-320', '2018-11-321', '2018-11-322', '2018-11-323', '2018-11-324', '2018-11-325', '2018-11-326', '2018-11-327', '2018-11-328', '2018-11-329', '2018-11-330', '2018-11-331', '2018-11-332', '2018-11-333', '2018-11-334', '2018-12-335', '2018-12-336', '2018-12-337', '2018-12-338', '2018-12-339', '2018-12-340', '2018-12-341', '2018-12-342', '2018-12-343', '2018-12-344', '2018-12-345', '2018-12-346', '2018-12-347', '2018-12-348', '2018-12-349', '2018-12-350', '2018-12-351', '2018-12-352', '2018-12-353', '2018-12-354', '2018-12-355', '2018-12-356', '2018-12-357', '2018-12-358', '2018-12-359', '2018-12-360', '2018-12-361', '2018-12-362', '2018-12-363', '2018-12-364', '2018-12-365', '2019-01-01', '2019-01-02', '2019-01-03', '2019-01-04', '2019-01-05', '2019-01-06', '2019-01-07', '2019-01-08', '2019-01-09', '2019-01-10', '2019-01-11', '2019-01-12', '2019-01-13', '2019-01-14', '2019-01-15', '2019-01-16', '2019-01-17', '2019-01-18', '2019-01-19', '2019-01-20', '2019-01-21', '2019-01-22', '2019-01-23', '2019-01-24', '2019-01-25', '2019-01-26', '2019-01-27', '2019-01-28', '2019-01-29', '2019-01-30', '2019-01-31', '2019-02-32', '2019-02-33', '2019-02-34', '2019-02-35', '2019-02-36', '2019-02-37', '2019-02-38', '2019-02-39', '2019-02-40', '2019-02-41', '2019-02-42', '2019-02-43', '2019-02-44', '2019-02-45', '2019-02-46', '2019-02-47', '2019-02-48', '2019-02-49', '2019-02-50', '2019-02-51', '2019-02-52', '2019-02-53', '2019-02-54', '2019-02-55', '2019-02-56', '2019-02-57', '2019-02-58', '2019-02-59', '2019-03-60', '2019-03-61', '2019-03-62', '2019-03-63', '2019-03-64', '2019-03-65', '2019-03-66', '2019-03-67', '2019-03-68', '2019-03-69', '2019-03-70', '2019-03-71', '2019-03-72', '2019-03-73', '2019-03-74', '2019-03-75', '2019-03-76', '2019-03-77', '2019-03-78', '2019-03-79', '2019-03-80', '2019-03-81', '2019-03-82', '2019-03-83', '2019-03-84', '2019-03-85', '2019-03-86', '2019-03-87', '2019-03-88', '2019-03-89', '2019-03-90', '2019-04-91', '2019-04-92', '2019-04-93', '2019-04-94', '2019-04-95', '2019-04-96', '2019-04-97', '2019-04-98', '2019-04-99', '2019-04-100', '2019-04-101', '2019-04-102', '2019-04-103', '2019-04-104', '2019-04-105', '2019-04-106', '2019-04-107', '2019-04-108', '2019-04-109', '2019-04-110', '2019-04-111', '2019-04-112', '2019-04-113', '2019-04-114', '2019-04-115', '2019-04-116', '2019-04-117', '2019-04-118', '2019-04-119', '2019-04-120', '2019-05-121', '2019-05-122', '2019-05-123', '2019-05-124', '2019-05-125', '2019-05-126', '2019-05-127', '2019-05-128', '2019-05-129', '2019-05-130', '2019-05-131', '2019-05-132', '2019-05-133', '2019-05-134', '2019-05-135', '2019-05-136', '2019-05-137', '2019-05-138', '2019-05-139', '2019-05-140', '2019-05-141', '2019-05-142', '2019-05-143', '2019-05-144', '2019-05-145', '2019-05-146', '2019-05-147', '2019-05-148', '2019-05-149', '2019-05-150', '2019-05-151', '2019-06-152', '2019-06-153', '2019-06-154', '2019-06-155', '2019-06-156', '2019-06-157', '2019-06-158', '2019-06-159', '2019-06-160', '2019-06-161', '2019-06-162', '2019-06-163', '2019-06-164', '2019-06-165', '2019-06-166', '2019-06-167', '2019-06-168', '2019-06-169', '2019-06-170', '2019-06-171', '2019-06-172', '2019-06-173', '2019-06-174', '2019-06-175', '2019-06-176', '2019-06-177', '2019-06-178', '2019-06-179', '2019-06-180', '2019-06-181', '2019-07-182', '2019-07-183', '2019-07-184', '2019-07-185', '2019-07-186', '2019-07-187', '2019-07-188', '2019-07-189', '2019-07-190', '2019-07-191', '2019-07-192', '2019-07-193', '2019-07-194', '2019-07-195', '2019-07-196', '2019-07-197', '2019-07-198', '2019-07-199', '2019-07-200', '2019-07-201', '2019-07-202', '2019-07-203', '2019-07-204', '2019-07-205', '2019-07-206', '2019-07-207', '2019-07-208', '2019-07-209', '2019-07-210', '2019-07-211', '2019-07-212', '2019-08-213', '2019-08-214', '2019-08-215', '2019-08-216', '2019-08-217', '2019-08-218', '2019-08-219', '2019-08-220', '2019-08-221', '2019-08-222', '2019-08-223', '2019-08-224', '2019-08-225', '2019-08-226', '2019-08-227', '2019-08-228', '2019-08-229', '2019-08-230', '2019-08-231', '2019-08-232', '2019-08-233', '2019-08-234', '2019-08-235', '2019-08-236', '2019-08-237', '2019-08-238', '2019-08-239', '2019-08-240', '2019-08-241', '2019-08-242', '2019-08-243', '2019-09-244', '2019-09-245', '2019-09-246', '2019-09-247', '2019-09-248', '2019-09-249', '2019-09-250', '2019-09-251', '2019-09-252', '2019-09-253', '2019-09-254', '2019-09-255', '2019-09-256', '2019-09-257', '2019-09-258', '2019-09-259', '2019-09-260', '2019-09-261', '2019-09-262', '2019-09-263', '2019-09-264', '2019-09-265', '2019-09-266', '2019-09-267', '2019-09-268', '2019-09-269', '2019-09-270', '2019-09-271', '2019-09-272', '2019-09-273', '2019-10-274', '2019-10-275', '2019-10-276', '2019-10-277', '2019-10-278', '2019-10-279', '2019-10-280', '2019-10-281', '2019-10-282', '2019-10-283', '2019-10-284', '2019-10-285', '2019-10-286', '2019-10-287', '2019-10-288', '2019-10-289', '2019-10-290', '2019-10-291', '2019-10-292', '2019-10-293', '2019-10-294', '2019-10-295', '2019-10-296', '2019-10-297', '2019-10-298', '2019-10-299', '2019-10-300', '2019-10-301', '2019-10-302', '2019-10-303', '2019-10-304', '2019-11-305', '2019-11-306', '2019-11-307', '2019-11-308', '2019-11-309', '2019-11-310', '2019-11-311', '2019-11-312', '2019-11-313', '2019-11-314', '2019-11-315', '2019-11-316', '2019-11-317', '2019-11-318', '2019-11-319', '2019-11-320', '2019-11-321', '2019-11-322', '2019-11-323', '2019-11-324', '2019-11-325', '2019-11-326', '2019-11-327', '2019-11-328', '2019-11-329', '2019-11-330', '2019-11-331', '2019-11-332', '2019-11-333', '2019-11-334', '2019-12-335', '2019-12-336', '2019-12-337', '2019-12-338', '2019-12-339', '2019-12-340', '2019-12-341', '2019-12-342', '2019-12-343', '2019-12-344', '2019-12-345', '2019-12-346', '2019-12-347', '2019-12-348', '2019-12-349', '2019-12-350', '2019-12-351', '2019-12-352', '2019-12-353', '2019-12-354', '2019-12-355', '2019-12-356', '2019-12-357', '2019-12-358', '2019-12-359', '2019-12-360', '2019-12-361', '2019-12-362', '2019-12-363', '2019-12-364', '2019-12-365', '2020-01-01', '2020-01-02', '2020-01-03', '2020-01-04', '2020-01-05', '2020-01-06', '2020-01-07', '2020-01-08', '2020-01-09', '2020-01-10', '2020-01-11', '2020-01-12', '2020-01-13', '2020-01-14', '2020-01-15', '2020-01-16', '2020-01-17', '2020-01-18', '2020-01-19', '2020-01-20', '2020-01-21', '2020-01-22', '2020-01-23', '2020-01-24', '2020-01-25', '2020-01-26', '2020-01-27', '2020-01-28', '2020-01-29', '2020-01-30', '2020-01-31', '2020-02-32', '2020-02-33', '2020-02-34', '2020-02-35', '2020-02-36', '2020-02-37', '2020-02-38', '2020-02-39', '2020-02-40', '2020-02-41', '2020-02-42', '2020-02-43', '2020-02-44', '2020-02-45', '2020-02-46', '2020-02-47', '2020-02-48', '2020-02-49', '2020-02-50', '2020-02-51', '2020-02-52', '2020-02-53', '2020-02-54', '2020-02-55', '2020-02-56', '2020-02-57', '2020-02-58', '2020-02-59', '2020-02-60', '2020-03-61', '2020-03-62', '2020-03-63', '2020-03-64', '2020-03-65', '2020-03-66', '2020-03-67', '2020-03-68', '2020-03-69', '2020-03-70', '2020-03-71', '2020-03-72', '2020-03-73', '2020-03-74', '2020-03-75', '2020-03-76', '2020-03-77', '2020-03-78', '2020-03-79', '2020-03-80', '2020-03-81', '2020-03-82', '2020-03-83', '2020-03-84', '2020-03-85', '2020-03-86', '2020-03-87', '2020-03-88', '2020-03-89', '2020-03-90', '2020-03-91', '2020-04-92', '2020-04-93', '2020-04-94', '2020-04-95', '2020-04-96', '2020-04-97', '2020-04-98', '2020-04-99', '2020-04-100', '2020-04-101', '2020-04-102', '2020-04-103', '2020-04-104', '2020-04-105', '2020-04-106', '2020-04-107', '2020-04-108', '2020-04-109', '2020-04-110', '2020-04-111', '2020-04-112', '2020-04-113', '2020-04-114', '2020-04-115', '2020-04-116', '2020-04-117', '2020-04-118', '2020-04-119', '2020-04-120', '2020-04-121', '2020-05-122', '2020-05-123', '2020-05-124', '2020-05-125', '2020-05-126', '2020-05-127', '2020-05-128', '2020-05-129', '2020-05-130', '2020-05-131', '2020-05-132', '2020-05-133', '2020-05-134', '2020-05-135', '2020-05-136', '2020-05-137', '2020-05-138', '2020-05-139', '2020-05-140', '2020-05-141', '2020-05-142', '2020-05-143', '2020-05-144', '2020-05-145', '2020-05-146', '2020-05-147', '2020-05-148', '2020-05-149', '2020-05-150', '2020-05-151', '2020-05-152', '2020-06-153', '2020-06-154', '2020-06-155', '2020-06-156', '2020-06-157', '2020-06-158', '2020-06-159', '2020-06-160', '2020-06-161', '2020-06-162', '2020-06-163', '2020-06-164', '2020-06-165', '2020-06-166', '2020-06-167', '2020-06-168', '2020-06-169', '2020-06-170', '2020-06-171', '2020-06-172', '2020-06-173', '2020-06-174', '2020-06-175', '2020-06-176', '2020-06-177', '2020-06-178', '2020-06-179', '2020-06-180', '2020-06-181', '2020-06-182', '2020-07-183', '2020-07-184', '2020-07-185', '2020-07-186', '2020-07-187', '2020-07-188', '2020-07-189', '2020-07-190', '2020-07-191', '2020-07-192', '2020-07-193', '2020-07-194', '2020-07-195', '2020-07-196', '2020-07-197', '2020-07-198', '2020-07-199', '2020-07-200', '2020-07-201', '2020-07-202', '2020-07-203', '2020-07-204', '2020-07-205', '2020-07-206', '2020-07-207', '2020-07-208', '2020-07-209', '2020-07-210', '2020-07-211', '2020-07-212', '2020-07-213', '2020-08-214', '2020-08-215', '2020-08-216', '2020-08-217', '2020-08-218', '2020-08-219', '2020-08-220', '2020-08-221', '2020-08-222', '2020-08-223', '2020-08-224', '2020-08-225', '2020-08-226', '2020-08-227', '2020-08-228', '2020-08-229', '2020-08-230', '2020-08-231', '2020-08-232', '2020-08-233', '2020-08-234', '2020-08-235', '2020-08-236', '2020-08-237', '2020-08-238', '2020-08-239', '2020-08-240', '2020-08-241', '2020-08-242', '2020-08-243', '2020-08-244', '2020-09-245', '2020-09-246', '2020-09-247', '2020-09-248', '2020-09-249', '2020-09-250', '2020-09-251', '2020-09-252', '2020-09-253', '2020-09-254', '2020-09-255', '2020-09-256', '2020-09-257', '2020-09-258', '2020-09-259', '2020-09-260', '2020-09-261', '2020-09-262', '2020-09-263', '2020-09-264', '2020-09-265', '2020-09-266', '2020-09-267', '2020-09-268', '2020-09-269', '2020-09-270', '2020-09-271', '2020-09-272', '2020-09-273', '2020-09-274', '2020-10-275', '2020-10-276', '2020-10-277', '2020-10-278', '2020-10-279', '2020-10-280', '2020-10-281', '2020-10-282', '2020-10-283', '2020-10-284', '2020-10-285', '2020-10-286', '2020-10-287', '2020-10-288', '2020-10-289', '2020-10-290', '2020-10-291', '2020-10-292', '2020-10-293', '2020-10-294', '2020-10-295', '2020-10-296', '2020-10-297', '2020-10-298', '2020-10-299', '2020-10-300', '2020-10-301', '2020-10-302', '2020-10-303', '2020-10-304', '2020-10-305', '2020-11-306', '2020-11-307', '2020-11-308', '2020-11-309', '2020-11-310', '2020-11-311', '2020-11-312', '2020-11-313', '2020-11-314', '2020-11-315', '2020-11-316', '2020-11-317', '2020-11-318', '2020-11-319', '2020-11-320', '2020-11-321', '2020-11-322', '2020-11-323', '2020-11-324', '2020-11-325', '2020-11-326', '2020-11-327', '2020-11-328', '2020-11-329', '2020-11-330', '2020-11-331', '2020-11-332', '2020-11-333', '2020-11-334', '2020-11-335', '2020-12-336', '2020-12-337', '2020-12-338', '2020-12-339', '2020-12-340', '2020-12-341', '2020-12-342', '2020-12-343', '2020-12-344', '2020-12-345', '2020-12-346', '2020-12-347', '2020-12-348', '2020-12-349', '2020-12-350', '2020-12-351', '2020-12-352', '2020-12-353', '2020-12-354', '2020-12-355', '2020-12-356', '2020-12-357', '2020-12-358', '2020-12-359', '2020-12-360', '2020-12-361', '2020-12-362', '2020-12-363', '2020-12-364', '2020-12-365']\n",
            "First from CHIRPS\n",
            "{'type': 'Image', 'bands': [{'id': 'precipitation', 'data_type': {'type': 'PixelType', 'precision': 'double'}, 'crs': 'EPSG:4326', 'crs_transform': [1, 0, 0, 0, 1, 0]}], 'properties': {'date': {'type': 'Date', 'value': 1420070400000}, 'month': 1, 'year': 2015, 'system:index': '0'}}\n"
          ]
        }
      ]
    },
    {
      "cell_type": "code",
      "source": [
        "# Statistics function\n",
        "\n",
        "def reduce (image):\n",
        "  serie_reduce = image.reduceRegions(**{\n",
        "      'collection': aoi,\n",
        "      'reducer': ee.Reducer.mean().combine(**{\n",
        "      'reducer2': ee.Reducer.max(),\n",
        "      'sharedInputs': True}).combine(**{\n",
        "        'reducer2': ee.Reducer.min(),\n",
        "        'sharedInputs': True}),\n",
        "      'scale': 1000\n",
        "      })\n",
        "  \n",
        "  serie_reduce = serie_reduce.map(lambda f: f.set({'millis': image.get('millis')}))\\\n",
        "                             .map(lambda f: f.set({'date': image.get('date')}))\\\n",
        "                             .map(lambda f: f.set({'month': image.get('month')}))\\\n",
        "                             .map(lambda f: f.set({'year': image.get('year')}))\n",
        "  return serie_reduce.copyProperties(image, ['system:time_start'])\n",
        "\n",
        "precipitation_reduce = monthlyCHIRPS.map(reduce)\\\n",
        "                                    .flatten()\\\n",
        "                                    .sort('date', True)\\\n",
        "                                    .select(['millis', 'date', 'max', 'mean', 'min', 'month', 'year'])\n",
        "\n",
        "print(\"Size:\",precipitation_reduce.size().getInfo())\n",
        "# print(\"First:\",precipitation_reduce.first().getInfo())\n",
        "# Checking the data previously generated:\n",
        "# df_debug = pd.DataFrame(precipitation_reduce.first().getInfo())\n",
        "# debug = df_debug.to_csv('/content/drive/MyDrive/Colab Notebooks/precipitation_reduce.csv')"
      ],
      "metadata": {
        "id": "OGE8HLPah-0N",
        "colab": {
          "base_uri": "https://localhost:8080/"
        },
        "outputId": "b4b2bcd7-70f5-41ec-b371-621b76285e5a"
      },
      "execution_count": null,
      "outputs": [
        {
          "output_type": "stream",
          "name": "stdout",
          "text": [
            "Size: 60\n"
          ]
        }
      ]
    },
    {
      "cell_type": "code",
      "source": [
        "# Checking the data previously generated:\n",
        "# df_debug = pd.DataFrame(precipitation_reduce.first().getInfo())\n",
        "# debug = df_debug.to_csv('/content/drive/MyDrive/Colab Notebooks/precipitation_reduce.csv')\n",
        "\n",
        "# creating the data list\n",
        "# prec_list = precipitation_reduce.reduceColumns(ee.Reducer.toList(3), ['date', 'month', 'year']).values().get(0)\n",
        "prec_list = precipitation_reduce.reduceColumns(ee.Reducer.toList(6), ['date', 'max', 'mean', 'min', 'month', 'year']).values().get(0)\n",
        "print(\"Precipitation reduce columns:\",prec_list.getInfo())\n",
        "\n",
        "# df_debug = pd.DataFrame(prec_list.getInfo())\n",
        "# debug = df_debug.to_csv('/content/drive/MyDrive/Colab Notebooks/precipitation_reduce.csv')\n",
        "\n",
        "# creating the dataframe\n",
        "\n",
        "df_prec = pd.DataFrame(prec_list.getInfo(), columns=['date', 'max_prec', 'mean_prec', 'min_prec', 'month', 'year'])\n",
        "# print(\"First:\",df_prec.getInfo())\n",
        "df_prec\n",
        "\n",
        "# export to .csv\n",
        "prec_csv1 = df_prec.to_csv('/content/drive/MyDrive/Colab Notebooks/df_prec_2000-2005.csv')"
      ],
      "metadata": {
        "id": "Eh9I7tPDubsg",
        "outputId": "61aa12de-e73a-4790-e1b5-5792aa544eec",
        "colab": {
          "base_uri": "https://localhost:8080/"
        }
      },
      "execution_count": null,
      "outputs": [
        {
          "output_type": "stream",
          "name": "stdout",
          "text": [
            "Precipitation reduce columns: [[{'type': 'Date', 'value': 1420070400000}, 379.7691459655762, 251.29638466772676, 137.19823455810547, 1, 2015], [{'type': 'Date', 'value': 1422748800000}, 454.08578300476074, 287.33588991581615, 174.76961708068848, 2, 2015], [{'type': 'Date', 'value': 1425168000000}, 415.4996757507324, 235.19832111909292, 119.80703735351562, 3, 2015], [{'type': 'Date', 'value': 1427846400000}, 162.4901638031006, 72.1620464574701, 29.184499740600586, 4, 2015], [{'type': 'Date', 'value': 1430438400000}, 268.1154975891113, 90.82484114489692, 22.905876994132996, 5, 2015], [{'type': 'Date', 'value': 1433116800000}, 94.24646377563477, 24.951499640417243, 9.551414251327515, 6, 2015], [{'type': 'Date', 'value': 1435708800000}, 226.70220947265625, 51.777678044535385, 10.50576376914978, 7, 2015], [{'type': 'Date', 'value': 1438387200000}, 69.50458812713623, 23.612201317061054, 7.416811227798462, 8, 2015], [{'type': 'Date', 'value': 1441065600000}, 199.5310869216919, 74.11887241428822, 42.81354904174805, 9, 2015], [{'type': 'Date', 'value': 1443657600000}, 280.732364654541, 136.55018028166663, 68.01848697662354, 10, 2015], [{'type': 'Date', 'value': 1446336000000}, 428.5103349685669, 265.49858391035804, 145.36045932769775, 11, 2015], [{'type': 'Date', 'value': 1448928000000}, 449.8117609024048, 276.62615188529423, 107.05038070678711, 12, 2015], [{'type': 'Date', 'value': 1451606400000}, 626.6444988250732, 282.1407421711064, 89.95255947113037, 1, 2016], [{'type': 'Date', 'value': 1454284800000}, 428.91834831237793, 254.334329665351, 129.42404556274414, 2, 2016], [{'type': 'Date', 'value': 1456790400000}, 776.5339279174805, 407.5527664943265, 234.2837061882019, 3, 2016], [{'type': 'Date', 'value': 1459468800000}, 197.98925399780273, 59.94314473493585, 25.3102388381958, 4, 2016], [{'type': 'Date', 'value': 1462060800000}, 278.1569232940674, 97.06862918081848, 35.05668890476227, 5, 2016], [{'type': 'Date', 'value': 1464739200000}, 168.91548919677734, 73.66044035938971, 31.27422332763672, 6, 2016], [{'type': 'Date', 'value': 1467331200000}, 46.08925151824951, 7.884070573224605, 0, 7, 2016], [{'type': 'Date', 'value': 1470009600000}, 91.9562759399414, 37.650637909352334, 12.436338424682617, 8, 2016], [{'type': 'Date', 'value': 1472688000000}, 142.8437843322754, 47.08830911189565, 25.906242847442627, 9, 2016], [{'type': 'Date', 'value': 1475280000000}, 253.9195384979248, 147.03920183691102, 80.88990211486816, 10, 2016], [{'type': 'Date', 'value': 1477958400000}, 565.9115333557129, 215.65906995217972, 94.84701585769653, 11, 2016], [{'type': 'Date', 'value': 1480550400000}, 412.4578170776367, 260.2361749734503, 94.49917984008789, 12, 2016], [{'type': 'Date', 'value': 1483228800000}, 545.5705013275146, 347.60800508252606, 201.63004350662231, 1, 2017], [{'type': 'Date', 'value': 1485907200000}, 273.034969329834, 185.65853112878602, 67.82951354980469, 2, 2017], [{'type': 'Date', 'value': 1488326400000}, 432.1010513305664, 276.7052872933496, 135.40326499938965, 3, 2017], [{'type': 'Date', 'value': 1491004800000}, 222.14612579345703, 83.90384163003513, 36.65119695663452, 4, 2017], [{'type': 'Date', 'value': 1493596800000}, 299.1605453491211, 98.6735450459714, 29.605337023735046, 5, 2017], [{'type': 'Date', 'value': 1496275200000}, 175.42599868774414, 43.15754049595763, 5.812085151672363, 6, 2017], [{'type': 'Date', 'value': 1498867200000}, 33.14280986785889, 7.025781210841593, 0, 7, 2017], [{'type': 'Date', 'value': 1501545600000}, 94.89684677124023, 38.81462108360566, 11.111105918884277, 8, 2017], [{'type': 'Date', 'value': 1504224000000}, 122.17819213867188, 46.64857714701233, 23.76034712791443, 9, 2017], [{'type': 'Date', 'value': 1506816000000}, 399.0163269042969, 191.29680956006894, 88.11262130737305, 10, 2017], [{'type': 'Date', 'value': 1509494400000}, 275.6203451156616, 174.3325174238033, 96.14827394485474, 11, 2017], [{'type': 'Date', 'value': 1512086400000}, 321.7175188064575, 214.66747944870016, 89.81780624389648, 12, 2017], [{'type': 'Date', 'value': 1514764800000}, 444.0955219268799, 271.2955093499368, 95.61906385421753, 1, 2018], [{'type': 'Date', 'value': 1517443200000}, 413.77118492126465, 238.2763535946337, 113.4058313369751, 2, 2018], [{'type': 'Date', 'value': 1519862400000}, 460.6100845336914, 267.4142637110242, 113.29006290435791, 3, 2018], [{'type': 'Date', 'value': 1522540800000}, 150.25283432006836, 60.07166077631211, 27.20692253112793, 4, 2018], [{'type': 'Date', 'value': 1525132800000}, 78.35929107666016, 22.246787775770024, 7.7399210929870605, 5, 2018], [{'type': 'Date', 'value': 1527811200000}, 88.06223678588867, 21.352766599313878, 5.750227451324463, 6, 2018], [{'type': 'Date', 'value': 1530403200000}, 75.41244506835938, 12.030473369254253, 0, 7, 2018], [{'type': 'Date', 'value': 1533081600000}, 202.02373344203625, 80.82539291324157, 38.232538058152215, 8, 2018], [{'type': 'Date', 'value': 1535760000000}, 231.45940017700195, 85.00575150595346, 49.492804288864136, 9, 2018], [{'type': 'Date', 'value': 1538352000000}, 280.04455947875977, 145.31077852143574, 84.51698541641235, 10, 2018], [{'type': 'Date', 'value': 1541030400000}, 394.4531297683716, 179.99120031041622, 70.62677955627441, 11, 2018], [{'type': 'Date', 'value': 1543622400000}, 313.2993187904358, 186.76561110915836, 80.72955453395844, 12, 2018], [{'type': 'Date', 'value': 1546300800000}, 387.06945037841797, 236.32702477159685, 68.89962959289551, 1, 2019], [{'type': 'Date', 'value': 1548979200000}, 544.2739219665527, 322.22547022212007, 184.24921226501465, 2, 2019], [{'type': 'Date', 'value': 1551398400000}, 542.7387771606445, 296.624426592624, 194.00625801086426, 3, 2019], [{'type': 'Date', 'value': 1554076800000}, 271.25992143154144, 104.29914697366085, 60.64761837758124, 4, 2019], [{'type': 'Date', 'value': 1556668800000}, 276.9266109466553, 82.76221187909604, 26.906853437423706, 5, 2019], [{'type': 'Date', 'value': 1559347200000}, 83.23935317993164, 11.362598580238423, 4.97185081243515, 6, 2019], [{'type': 'Date', 'value': 1561939200000}, 82.81877136230469, 15.836105972836414, 4.5412468910217285, 7, 2019], [{'type': 'Date', 'value': 1564617600000}, 69.62030553817749, 29.172310220687283, 11.76168155670166, 8, 2019], [{'type': 'Date', 'value': 1567296000000}, 140.96156692504883, 60.18334731987422, 33.378530502319336, 9, 2019], [{'type': 'Date', 'value': 1569888000000}, 157.95711612701416, 81.83548861410736, 47.828837871551514, 10, 2019], [{'type': 'Date', 'value': 1572566400000}, 278.54460191726685, 164.45302358823966, 77.2043406367302, 11, 2019], [{'type': 'Date', 'value': 1575158400000}, 327.6342067718506, 209.4123671501483, 90.4000039100647, 12, 2019]]\n"
          ]
        }
      ]
    }
  ]
}